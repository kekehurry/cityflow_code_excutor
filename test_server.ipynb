{
 "cells": [
  {
   "cell_type": "code",
   "execution_count": 1,
   "metadata": {},
   "outputs": [],
   "source": [
    "import requests\n",
    "server_url = \"http://localhost:8000\""
   ]
  },
  {
   "cell_type": "markdown",
   "metadata": {},
   "source": [
    "# Create a Container and run the code"
   ]
  },
  {
   "cell_type": "code",
   "execution_count": 2,
   "metadata": {},
   "outputs": [],
   "source": [
    "code_blocks = [\n",
    "{\n",
    "    \"code\":'''\n",
    "print(\"Hello, World!\")\n",
    "''',\n",
    "\"language\": \"py\"\n",
    "}\n",
    "]"
   ]
  },
  {
   "cell_type": "code",
   "execution_count": 3,
   "metadata": {},
   "outputs": [
    {
     "name": "stdout",
     "output_type": "stream",
     "text": [
      "{'container_name': 'code-exec-84a977e1-1c8b-4764-9a4e-8146c31b76cd', 'exit_code': 0, 'output': 'Hello, World!\\n', 'session_id': 'f6160748-9aa3-4b15-ac64-22fe095d1b17'}\n"
     ]
    }
   ],
   "source": [
    "response = requests.post(server_url + \"/api/execute\", json={\"code_blocks\": code_blocks})\n",
    "print(response.json())"
   ]
  },
  {
   "cell_type": "markdown",
   "metadata": {},
   "source": [
    "# Create another Container and run the code"
   ]
  },
  {
   "cell_type": "code",
   "execution_count": 4,
   "metadata": {},
   "outputs": [],
   "source": [
    "# install numpy package using shell command\n",
    "code_blocks = [\n",
    "{\n",
    "    \"code\":'''\n",
    "pip install numpy\n",
    "''',\n",
    "\"language\": \"sh\"\n",
    "}\n",
    "]"
   ]
  },
  {
   "cell_type": "code",
   "execution_count": 5,
   "metadata": {},
   "outputs": [
    {
     "name": "stdout",
     "output_type": "stream",
     "text": [
      "{'container_name': 'code-exec-02313aff-d293-4bb3-a951-33a4c8d3c21f', 'exit_code': 0, 'output': '', 'session_id': 'd3f5445c-acca-4fb8-b7b5-f7a39e17e77b'}\n"
     ]
    }
   ],
   "source": [
    "response = requests.post(server_url + \"/api/execute\", json={\"code_blocks\": code_blocks,\n",
    "                                                            'session_id': 'd3f5445c-acca-4fb8-b7b5-f7a39e17e77b'})\n",
    "print(response.json())"
   ]
  },
  {
   "cell_type": "markdown",
   "metadata": {},
   "source": [
    "# Use the existing Container and run the code"
   ]
  },
  {
   "cell_type": "code",
   "execution_count": 6,
   "metadata": {},
   "outputs": [],
   "source": [
    "code_blocks = [\n",
    "{\n",
    "    \"code\":'''\n",
    "import numpy as np\n",
    "print(np.random.rand(5))\n",
    "''',\n",
    "\"language\": \"py\"\n",
    "}\n",
    "]"
   ]
  },
  {
   "cell_type": "code",
   "execution_count": 7,
   "metadata": {},
   "outputs": [
    {
     "name": "stdout",
     "output_type": "stream",
     "text": [
      "{'container_name': 'code-exec-02313aff-d293-4bb3-a951-33a4c8d3c21f', 'exit_code': 0, 'output': '[0.69452092 0.54823637 0.71390806 0.24611188 0.89887999]\\n', 'session_id': 'd3f5445c-acca-4fb8-b7b5-f7a39e17e77b'}\n"
     ]
    }
   ],
   "source": [
    "response = requests.post(server_url + \"/api/execute\", json={\"code_blocks\": code_blocks, \n",
    "                                                            \"session_id\": \"d3f5445c-acca-4fb8-b7b5-f7a39e17e77b\"})\n",
    "print(response.json())"
   ]
  }
 ],
 "metadata": {
  "kernelspec": {
   "display_name": "llm",
   "language": "python",
   "name": "python3"
  },
  "language_info": {
   "codemirror_mode": {
    "name": "ipython",
    "version": 3
   },
   "file_extension": ".py",
   "mimetype": "text/x-python",
   "name": "python",
   "nbconvert_exporter": "python",
   "pygments_lexer": "ipython3",
   "version": "3.12.4"
  }
 },
 "nbformat": 4,
 "nbformat_minor": 2
}
