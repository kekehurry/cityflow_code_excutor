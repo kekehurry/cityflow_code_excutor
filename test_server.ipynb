{
 "cells": [
  {
   "cell_type": "code",
   "execution_count": 9,
   "metadata": {},
   "outputs": [],
   "source": [
    "import requests\n",
    "server_url = \"http://localhost:8000\""
   ]
  },
  {
   "cell_type": "markdown",
   "metadata": {},
   "source": [
    "# Create a Container and run the code"
   ]
  },
  {
   "cell_type": "code",
   "execution_count": 10,
   "metadata": {},
   "outputs": [],
   "source": [
    "code_blocks = [\n",
    "{\n",
    "    \"code\":'''\n",
    "print(\"Hello, World!\")\n",
    "''',\n",
    "\"language\": \"py\"\n",
    "}\n",
    "]"
   ]
  },
  {
   "cell_type": "code",
   "execution_count": 11,
   "metadata": {},
   "outputs": [
    {
     "name": "stdout",
     "output_type": "stream",
     "text": [
      "{'container_name': 'code-exec-5365bc50-d8bd-4548-8270-969d3e481ac7', 'exit_code': 0, 'output': 'Hello, World!\\n', 'session_id': '17c47001-59c3-4cd4-924e-93233ab22517'}\n"
     ]
    }
   ],
   "source": [
    "response = requests.post(server_url + \"/api/execute\", json={\"code_blocks\": code_blocks})\n",
    "print(response.json())"
   ]
  },
  {
   "cell_type": "markdown",
   "metadata": {},
   "source": [
    "# Create another Container and run the code"
   ]
  },
  {
   "cell_type": "code",
   "execution_count": 18,
   "metadata": {},
   "outputs": [],
   "source": [
    "# install numpy package using shell command\n",
    "code_blocks = [\n",
    "{\n",
    "    \"code\":'''\n",
    "pip install numpy\n",
    "''',\n",
    "\"language\": \"sh\"\n",
    "}\n",
    "]"
   ]
  },
  {
   "cell_type": "code",
   "execution_count": 13,
   "metadata": {},
   "outputs": [
    {
     "name": "stdout",
     "output_type": "stream",
     "text": [
      "{'container_name': 'code-exec-3cd9bee0-1f13-451b-b20a-413c85ea3a2c', 'exit_code': 0, 'output': '', 'session_id': 'd3f5445c-acca-4fb8-b7b5-f7a39e17e77b'}\n"
     ]
    }
   ],
   "source": [
    "response = requests.post(server_url + \"/api/execute\", json={\"code_blocks\": code_blocks,\n",
    "                                                            'session_id': 'd3f5445c-acca-4fb8-b7b5-f7a39e17e77b'})\n",
    "print(response.json())"
   ]
  },
  {
   "cell_type": "markdown",
   "metadata": {},
   "source": [
    "# Use the existing Container and run the code"
   ]
  },
  {
   "cell_type": "code",
   "execution_count": 16,
   "metadata": {},
   "outputs": [],
   "source": [
    "code_blocks = [\n",
    "{\n",
    "    \"code\":'''\n",
    "import numpy as np\n",
    "print(np.random.rand(5))\n",
    "''',\n",
    "\"language\": \"py\"\n",
    "}\n",
    "]"
   ]
  },
  {
   "cell_type": "code",
   "execution_count": 17,
   "metadata": {},
   "outputs": [
    {
     "name": "stdout",
     "output_type": "stream",
     "text": [
      "{'container_name': 'code-exec-3cd9bee0-1f13-451b-b20a-413c85ea3a2c', 'exit_code': 0, 'output': '[0.90405279 0.92960449 0.41940936 0.26075767 0.85935714]\\n', 'session_id': 'd3f5445c-acca-4fb8-b7b5-f7a39e17e77b'}\n"
     ]
    }
   ],
   "source": [
    "response = requests.post(server_url + \"/api/execute\", json={\"code_blocks\": code_blocks, \n",
    "                                                            \"session_id\": \"d3f5445c-acca-4fb8-b7b5-f7a39e17e77b\"})\n",
    "print(response.json())"
   ]
  }
 ],
 "metadata": {
  "kernelspec": {
   "display_name": "llm",
   "language": "python",
   "name": "python3"
  },
  "language_info": {
   "codemirror_mode": {
    "name": "ipython",
    "version": 3
   },
   "file_extension": ".py",
   "mimetype": "text/x-python",
   "name": "python",
   "nbconvert_exporter": "python",
   "pygments_lexer": "ipython3",
   "version": "3.12.4"
  }
 },
 "nbformat": 4,
 "nbformat_minor": 2
}
